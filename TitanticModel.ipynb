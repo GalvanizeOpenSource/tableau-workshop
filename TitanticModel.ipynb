{
 "cells": [
  {
   "cell_type": "code",
   "execution_count": 29,
   "metadata": {},
   "outputs": [],
   "source": [
    "import pandas as pd\n",
    "from sklearn.model_selection import train_test_split\n",
    "from sklearn.linear_model import LogisticRegression\n",
    "from sklearn.metrics import accuracy_score\n",
    "import pickle\n",
    "import tabpy_client "
   ]
  },
  {
   "cell_type": "code",
   "execution_count": 30,
   "metadata": {},
   "outputs": [],
   "source": [
    "# Read CSV into pandas\n",
    "df = pd.read_csv('data/titanic.csv')\n",
    "# Set the X and y variables\n",
    "X = df[['Age', 'Fare']]\n",
    "y = df['Survived']"
   ]
  },
  {
   "cell_type": "code",
   "execution_count": 31,
   "metadata": {},
   "outputs": [],
   "source": [
    "# Quickly fill in null values before training the model\n",
    "X.fillna(X.mean(), axis=0, inplace=True)\n",
    "y = [number if number==1 else 0 for number in y]"
   ]
  },
  {
   "cell_type": "code",
   "execution_count": 32,
   "metadata": {},
   "outputs": [
    {
     "data": {
      "text/plain": [
       "LogisticRegression(C=1.0, class_weight=None, dual=False, fit_intercept=True,\n",
       "          intercept_scaling=1, max_iter=100, multi_class='ovr', n_jobs=1,\n",
       "          penalty='l2', random_state=None, solver='liblinear', tol=0.0001,\n",
       "          verbose=0, warm_start=False)"
      ]
     },
     "execution_count": 32,
     "metadata": {},
     "output_type": "execute_result"
    }
   ],
   "source": [
    "# Train test split your data\n",
    "X_train, X_test, y_train, y_test = train_test_split(X, y, stratify=y)\n",
    "# Create and train a simple model\n",
    "model = LogisticRegression()\n",
    "model.fit(X_train, y_train)"
   ]
  },
  {
   "cell_type": "code",
   "execution_count": 33,
   "metadata": {},
   "outputs": [
    {
     "name": "stdout",
     "output_type": "stream",
     "text": [
      "0.659192825112\n"
     ]
    }
   ],
   "source": [
    "# Generate predictions\n",
    "y_test_predicted = model.predict(X_test)\n",
    "# Print acccuracy score\n",
    "print(accuracy_score(y_test_predicted, y_test))"
   ]
  },
  {
   "cell_type": "code",
   "execution_count": 34,
   "metadata": {},
   "outputs": [],
   "source": [
    "# Save the model as a pickled file\n",
    "pickle.dump(model, open('data/model', 'w'))"
   ]
  },
  {
   "cell_type": "code",
   "execution_count": 35,
   "metadata": {},
   "outputs": [],
   "source": [
    "# Connect to TabPy server using the client library\n",
    "connection = tabpy_client.Client('http://localhost:9004/')"
   ]
  },
  {
   "cell_type": "code",
   "execution_count": 38,
   "metadata": {},
   "outputs": [],
   "source": [
    "# Create scoring function (for use with feeding new data into the model in Tableau)\n",
    "def PredictSurvival(age, fare):\n",
    "    model = pickle.load(open('data/model', 'r'))\n",
    "    X_test = pd.DataFrame([age, fare]).transpose()\n",
    "    X_test.fillna(X_test.mean(), axis=0, inplace=True)\n",
    "    y_test_predicted = model.predict(X_test)\n",
    "    return list(y_test_predicted)"
   ]
  },
  {
   "cell_type": "code",
   "execution_count": null,
   "metadata": {
    "scrolled": true
   },
   "outputs": [],
   "source": [
    "# Publish the function to TabPy server so it can be used from Tableau\n",
    "# PredictSurvivalFunction is the name to be used in Tableau, PredictSurvival is the original function name\n",
    "connection.deploy('PredictSurvivalFunction', PredictSurvival,'Returns a yes/no prediction', override=True)"
   ]
  },
  {
   "cell_type": "code",
   "execution_count": null,
   "metadata": {},
   "outputs": [],
   "source": []
  }
 ],
 "metadata": {
  "kernelspec": {
   "display_name": "Python 2",
   "language": "python",
   "name": "python2"
  },
  "language_info": {
   "codemirror_mode": {
    "name": "ipython",
    "version": 2
   },
   "file_extension": ".py",
   "mimetype": "text/x-python",
   "name": "python",
   "nbconvert_exporter": "python",
   "pygments_lexer": "ipython2",
   "version": "2.7.14"
  }
 },
 "nbformat": 4,
 "nbformat_minor": 2
}
